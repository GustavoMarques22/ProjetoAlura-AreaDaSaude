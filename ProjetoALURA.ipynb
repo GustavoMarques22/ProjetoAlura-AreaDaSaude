{
  "nbformat": 4,
  "nbformat_minor": 0,
  "metadata": {
    "colab": {
      "provenance": [],
      "authorship_tag": "ABX9TyPG7ShV8sfSfWJLMmH6+AZy",
      "include_colab_link": true
    },
    "kernelspec": {
      "name": "python3",
      "display_name": "Python 3"
    },
    "language_info": {
      "name": "python"
    }
  },
  "cells": [
    {
      "cell_type": "markdown",
      "metadata": {
        "id": "view-in-github",
        "colab_type": "text"
      },
      "source": [
        "<a href=\"https://colab.research.google.com/github/GustavoMarques22/ProjetoAlura-AreaDaSaude/blob/main/ProjetoALURA.ipynb\" target=\"_parent\"><img src=\"https://colab.research.google.com/assets/colab-badge.svg\" alt=\"Open In Colab\"/></a>"
      ]
    },
    {
      "cell_type": "markdown",
      "source": [],
      "metadata": {
        "id": "TrlJVEgyJxbB"
      }
    },
    {
      "cell_type": "markdown",
      "source": [
        "# Projeto de Criação de Conteúdo Inteligente para Conexão Saúde-IA\n",
        "\n",
        "## Unindo Conhecimento e Acessibilidade na Área da Saúde\n",
        "\n",
        "A comunicação eficaz na saúde é um pilar para o bem-estar. No entanto, tanto pacientes quanto profissionais enfrentam o desafio de encontrar, compreender e compartilhar informações médicas precisas e atualizadas em meio a um volume crescente de dados. Pacientes buscam clareza e confiança em suas jornadas de saúde, enquanto profissionais precisam de acesso rápido a pesquisas e avanços para aprimorar suas práticas.\n",
        "\n",
        "## Nossa Proposta: Um Sistema de Agentes de IA como Ponte de Conhecimento\n",
        "\n",
        "Este projeto apresenta um sistema inovador, impulsionado por Inteligência Artificial e arquitetura de agentes, projetado para automatizar e otimizar a criação de conteúdo de saúde. Nossa solução visa construir uma ponte de conhecimento, transformando informações complexas em conteúdo acessível e relevante para pacientes e profissionais da saúde, promovendo uma conexão mais forte e informada.\n",
        "\n",
        "## O Impacto da IA na Comunicação em Saúde\n",
        "\n",
        "Nosso objetivo é demonstrar como agentes de IA podem atuar de forma colaborativa para:\n",
        "\n",
        "*   **Identificar Tendências:** Descobrir os avanços mais recentes e relevantes na área da saúde.\n",
        "*   **Planejar Conteúdo Estratégico:** Organizar informações e definir abordagens que ressoem com diferentes públicos.\n",
        "*   **Criar Conteúdo Engajador:** Redigir materiais claros, precisos e adaptados para plataformas como o Instagram.\n",
        "*   **Garantir a Qualidade e Precisão:** Revisar o conteúdo para assegurar sua confiabilidade e adequação.\n",
        "\n",
        "Através deste projeto, buscamos explorar o potencial da IA para transformar a maneira como a informação de saúde é criada e compartilhada, tornando-a mais dinâmica, acessível e impactante."
      ],
      "metadata": {
        "id": "GcSWdnc_JywS"
      }
    },
    {
      "source": [
        "# Instalação das bibliotecas necessárias para o projeto de Saúde-IA\n",
        "# Google GenAI para interagir com os modelos Gemini\n",
        "# Google ADK para construir a arquitetura de agentes\n",
        "\n",
        "%pip -q install google-genai google-adk"
      ],
      "cell_type": "code",
      "metadata": {
        "id": "KSLBYqrIJ1xC"
      },
      "execution_count": 16,
      "outputs": []
    },
    {
      "source": [
        "# Configuração da API Key do Google AI Studio\n",
        "# A API Key deve ser armazenada no Colab Secrets com o nome 'GOOGLE_API_KEY'\n",
        "import os\n",
        "from google.colab import userdata\n",
        "\n",
        "try:\n",
        "    # Tenta obter a API Key dos segredos do Colab\n",
        "    os.environ[\"GOOGLE_API_KEY\"] = userdata.get('GOOGLE_API_KEY')\n",
        "    if not os.environ[\"GOOGLE_API_KEY\"]:\n",
        "        # Se a API Key não for encontrada ou estiver vazia nos segredos\n",
        "        raise ValueError(\"API Key não encontrada nos segredos do Colab.\")\n",
        "    print(\"✅ API Key configurada com sucesso a partir dos segredos do Colab.\")\n",
        "except Exception as e:\n",
        "    # Captura e exibe o erro se a API Key não puder ser configurada\n",
        "    print(f\"❌ Erro ao configurar a API Key: {e}\")\n",
        "    print(\"Por favor, adicione sua GOOGLE_API_KEY nos segredos do Colab (ícone de chave 🔑 na barra lateral esquerda).\")\n",
        "\n",
        "# Inicializa o cliente Gemini com o modelo padrão\n",
        "from google import genai\n",
        "client = genai.Client()\n",
        "MODEL_ID = \"gemini-2.0-flash\" # Modelo recomendado para este projeto\n",
        "print(f\"✨ Cliente Gemini inicializado com o modelo {MODEL_ID}\")\n",
        "\n",
        "# Opcional: Verificar modelos disponíveis (descomente se necessário)\n",
        "# for m in client.models.list():\n",
        "#   if 'generateContent' in m.supported_generation_methods:\n",
        "#     print(m.name)"
      ],
      "cell_type": "code",
      "metadata": {
        "id": "0LaoylvGJ2tC",
        "colab": {
          "base_uri": "https://localhost:8080/"
        },
        "outputId": "3cd2f551-a98e-4cbb-9ea5-69036e3f45dc"
      },
      "execution_count": 35,
      "outputs": [
        {
          "output_type": "stream",
          "name": "stdout",
          "text": [
            "✅ API Key configurada com sucesso a partir dos segredos do Colab.\n",
            "✨ Cliente Gemini inicializado com o modelo gemini-2.0-flash\n"
          ]
        }
      ]
    },
    {
      "cell_type": "markdown",
      "source": [
        "## Ferramentas Essenciais e Funções Auxiliares\n",
        "\n",
        "Para construir o nosso sistema de agentes, contamos com o **Google ADK (Agent Development Kit)**, que simplifica a criação e orquestração de agentes inteligentes, e a **ferramenta de busca do Google**, fundamental para coletar informações atualizadas. Além disso, desenvolvemos funções auxiliares para facilitar a interação com os agentes e a apresentação dos resultados."
      ],
      "metadata": {
        "id": "vwEZkq3NJ4Pa"
      }
    },
    {
      "source": [
        "# Importações e Funções Auxiliares para o ADK e interação\n",
        "from google.adk.agents import Agent\n",
        "from google.adk.runners import Runner\n",
        "from google.adk.sessions import InMemorySessionService\n",
        "from google.adk.tools import google_search # Ferramenta de busca do Google\n",
        "from google.genai import types # Para criar conteúdos (Content e Part)\n",
        "from datetime import date # Para obter a data atual\n",
        "import textwrap # Para formatar melhor a saída de texto\n",
        "from IPython.display import display, Markdown, HTML # Para exibir texto formatado no Colab\n",
        "import requests # Pode ser útil para futuras integrações (ex: APIs de saúde)\n",
        "import warnings # Para gerenciar warnings\n",
        "\n",
        "# Ignorar warnings para uma saída mais limpa durante a execução\n",
        "warnings.filterwarnings(\"ignore\")\n",
        "\n",
        "# --- Função auxiliar: Chamar um Agente via Runner ---\n",
        "def call_agent(agent: Agent, message_text: str) -> str:\n",
        "    \"\"\"\n",
        "    Envia uma mensagem de texto para um agente usando o Runner do ADK\n",
        "    e retorna a resposta final consolidada.\n",
        "    \"\"\"\n",
        "    # Utiliza o serviço de sessão em memória para simplificar\n",
        "    session_service = InMemorySessionService()\n",
        "    # Cria ou recupera uma sessão para o usuário e aplicativo\n",
        "    session = session_service.create_session(app_name=agent.name, user_id=\"user1\", session_id=\"session1\")\n",
        "    # Inicializa o Runner para gerenciar a execução do agente\n",
        "    runner = Runner(agent=agent, app_name=agent.name, session_service=session_service)\n",
        "    # Prepara o conteúdo da mensagem para o agente\n",
        "    content = types.Content(role=\"user\", parts=[types.Part(text=message_text)])\n",
        "\n",
        "    final_response = \"\"\n",
        "    # Executa o agente e itera sobre os eventos até obter a resposta final\n",
        "    for event in runner.run(user_id=\"user1\", session_id=\"session1\", new_message=content):\n",
        "        if event.is_final_response():\n",
        "          for part in event.content.parts:\n",
        "            if part.text is not None:\n",
        "              final_response += part.text\n",
        "              final_response += \"\\n\"\n",
        "    return final_response\n",
        "\n",
        "# --- Função auxiliar: Formatar texto para Markdown no Colab ---\n",
        "def to_markdown(text):\n",
        "  \"\"\"\n",
        "  Formata texto para exibição em Markdown no Colab, ajustando a indentação\n",
        "  e substituindo marcadores comuns por bullet points Markdown.\n",
        "  \"\"\"\n",
        "  text = text.replace('•', '  *') # Substitui bullet points comuns por formato Markdown\n",
        "  # Indenta o texto para destacar a saída dos agentes\n",
        "  return Markdown(textwrap.indent(text, '> ', predicate=lambda _: True))"
      ],
      "cell_type": "code",
      "metadata": {
        "id": "lqSiGqFnJ6aC"
      },
      "execution_count": 18,
      "outputs": []
    },
    {
      "cell_type": "markdown",
      "source": [
        "## A Arquitetura de Agentes para Criação de Conteúdo em Saúde\n",
        "\n",
        "Nosso sistema de criação de conteúdo para conexão Saúde-IA é estruturado como um pipeline de agentes especializados. Cada agente tem uma função específica e colabora com os demais, passando a informação adiante para refinar e construir o post final. Essa abordagem modular permite flexibilidade e clareza no processo.\n",
        "\n",
        "A cadeia de agentes funciona da seguinte forma:\n",
        "\n",
        "1.  **Agente Buscador de Tendências em Saúde:** Inicia o processo buscando informações relevantes.\n",
        "2.  **Agente Planejador de Conteúdo para Conexão Saúde:** Recebe as informações buscadas e estrutura o plano do post, pensando nos públicos.\n",
        "3.  **Agente Redator de Posts Engajadores de Saúde:** Utiliza o plano para escrever o rascunho do post, com foco na linguagem e tom adequados.\n",
        "4.  **Agente Revisor de Qualidade em Saúde:** Avalia e aprimora o rascunho, garantindo precisão e adequação.\n",
        "\n",
        "Esta arquitetura sequencial garante que cada etapa da criação de conteúdo seja tratada por um especialista em IA, resultando em um post mais preciso, relevante e engajador."
      ],
      "metadata": {
        "id": "pVRULLDzKDkr"
      }
    },
    {
      "cell_type": "markdown",
      "source": [
        "## Agente 1: Buscador de Tendências em Saúde\n",
        "\n",
        "Este agente é o ponto de partida do nosso pipeline. Sua função é essencial para garantir que o conteúdo gerado seja relevante e baseado nas informações mais recentes na área da saúde. Ele utiliza a ferramenta de busca do Google para identificar pesquisas, avanços tecnológicos e lançamentos importantes.\n",
        "\n",
        "Para otimizar a busca, as instruções do agente o direcionam a:\n",
        "\n",
        "*   Buscar informações **atuais**, focando nos últimos meses.\n",
        "*   Priorizar **fontes confiáveis** na área da saúde (órgãos oficiais, instituições de pesquisa, hospitais de referência).\n",
        "*   Identificar **lançamentos ou tendências com impacto significativo** para pacientes e profissionais.\n",
        "*   Limitar a quantidade de resultados para manter o foco."
      ],
      "metadata": {
        "id": "XkzeYLJiKLEV"
      }
    },
    {
      "source": [
        "# Definição do Agente Buscador de Tendências em Saúde\n",
        "def agente_buscador_saude(topico_saude: str, data_de_hoje: str) -> str:\n",
        "    \"\"\"\n",
        "    Agente que busca informações relevantes sobre tendências e notícias na área da saúde,\n",
        "    focando em avanços, pesquisas e lançamentos importantes de fontes confiáveis.\n",
        "\n",
        "    Args:\n",
        "        topico_saude: O tópico de saúde a ser buscado.\n",
        "        data_de_hoje: A data atual no formato dd/mm/yyyy.\n",
        "\n",
        "    Returns:\n",
        "        Uma string contendo as informações encontradas sobre tendências e lançamentos.\n",
        "    \"\"\"\n",
        "    buscador = Agent(\n",
        "        name=\"agente_buscador_saude\",\n",
        "        model=MODEL_ID, # Usando o modelo definido no setup inicial\n",
        "        instruction=f\"\"\"\n",
        "        Você é um assistente de pesquisa especializado em notícias e tendências na área da saúde.\n",
        "        Sua tarefa é usar a ferramenta de busca do Google (google_search) para recuperar as informações mais recentes e relevantes\n",
        "        sobre avanços médicos, tecnológicos, novas pesquisas e lançamentos importantes relacionados ao tópico de saúde: \"{topico_saude}\".\n",
        "\n",
        "        Foque em identificar no máximo 5 lançamentos ou tendências que demonstrem um impacto significativo para profissionais\n",
        "        e/ou pacientes, com base na quantidade e relevância das notícias sobre eles.\n",
        "        Priorize informações de fontes confiáveis como hospitais de referência, universidades, revistas científicas (Ex: The Lancet, NEJM),\n",
        "        órgãos de saúde (Ex: OMS, Ministério da Saúde) e sites de notícias de saúde renomados.\n",
        "\n",
        "        Os resultados devem ser atuais, de no máximo um mês antes da data de hoje ({data_de_hoje}).\n",
        "        Seja conciso e apresente os resultados de forma clara.\n",
        "\n",
        "        Formato da saída: Liste cada lançamento/tendência encontrado em um item separado,\n",
        "        com um breve resumo do que se trata e a fonte principal (nome do site ou organização) entre parênteses, se possível.\n",
        "        \"\"\",\n",
        "        description=\"Agente que busca informações no Google sobre tendências na área da saúde\",\n",
        "        tools=[google_search]\n",
        "    )\n",
        "    entrada_do_agente_buscador = f\"Tópico de saúde para buscar tendências e lançamentos: {topico_saude}\\nData de hoje: {data_de_hoje}\"\n",
        "    informacoes_saude = call_agent(buscador, entrada_do_agente_buscador)\n",
        "    return informacoes_saude"
      ],
      "cell_type": "code",
      "metadata": {
        "id": "YkLodShZKMnR"
      },
      "execution_count": 36,
      "outputs": []
    },
    {
      "cell_type": "markdown",
      "source": [
        "### Exemplo de Execução do Agente Buscador de Tendências em Saúde\n",
        "\n",
        "Vamos ver o Agente Buscador em ação. Ele solicitará um tópico de saúde e então utilizará a ferramenta de busca para encontrar as tendências e lançamentos mais relevantes, exibindo o resultado."
      ],
      "metadata": {
        "id": "4E2BmCLtKRWQ"
      }
    },
    {
      "source": [
        "# Exemplo de execução do Agente Buscador de Tendências em Saúde\n",
        "data_de_hoje = date.today().strftime(\"%d/%m/%Y\")\n",
        "\n",
        "# --- Obter o Tópico de Saúde do Usuário ---\n",
        "topico_saude_exemplo = input(\"❓ Por favor, digite o TÓPICO de saúde para buscar tendências: \")\n",
        "\n",
        "if not topico_saude_exemplo:\n",
        "    print(\"Você esqueceu de digitar o tópico de saúde!\")\n",
        "else:\n",
        "    print(f\"\\n🔎 Buscando informações sobre tendências em {topico_saude_exemplo} na área da saúde...\")\n",
        "\n",
        "    # Chama o agente buscador de saúde\n",
        "    informacoes_buscadas = agente_buscador_saude(topico_saude_exemplo, data_de_hoje)\n",
        "\n",
        "    print(\"\\n--- 📝 Resultado do Agente 1 (Buscador de Tendências em Saúde) ---\\n\")\n",
        "    display(to_markdown(informacoes_buscadas))\n",
        "    print(\"--------------------------------------------------------------\")\n",
        "\n",
        "# Para os próximos exemplos, armazenamos o tópico e as informações buscadas\n",
        "# para que os agentes subsequentes possam utilizá-los.\n",
        "if 'informacoes_buscadas' in locals() and informacoes_buscadas:\n",
        "    # Variáveis para serem usadas pelos próximos exemplos\n",
        "    topico_para_planejar = topico_saude_exemplo\n",
        "    informacoes_para_planejar = informacoes_buscadas\n",
        "    print(\"\\n💾 Informações buscadas armazenadas para o próximo agente.\")\n",
        "else:\n",
        "     print(\"\\n❌ Nenhuma informação buscada. Os próximos exemplos podem não funcionar corretamente sem a execução bem-sucedida do Agente Buscador.\")"
      ],
      "cell_type": "code",
      "metadata": {
        "id": "h4gXImFoKTB-",
        "colab": {
          "base_uri": "https://localhost:8080/",
          "height": 464
        },
        "outputId": "22a6224a-efa0-4814-a391-f33a74c9c3aa"
      },
      "execution_count": 37,
      "outputs": [
        {
          "output_type": "stream",
          "name": "stdout",
          "text": [
            "❓ Por favor, digite o TÓPICO de saúde para buscar tendências: Saúde Mental\n",
            "\n",
            "🔎 Buscando informações sobre tendências em Saúde Mental na área da saúde...\n",
            "\n",
            "--- 📝 Resultado do Agente 1 (Buscador de Tendências em Saúde) ---\n",
            "\n"
          ]
        },
        {
          "output_type": "display_data",
          "data": {
            "text/plain": [
              "<IPython.core.display.Markdown object>"
            ],
            "text/markdown": "> Aqui estão algumas tendências e lançamentos recentes na área de Saúde Mental, com foco nos últimos meses:\n> \n> \n> Com base nas informações mais recentes, aqui estão algumas tendências e lançamentos importantes na área de Saúde Mental:\n> \n> 1.  **Avanços na Telemedicina:** A telemedicina continua a se expandir, oferecendo terapia online e consultas virtuais de saúde mental. A tecnologia está tornando o suporte à saúde mental mais acessível, especialmente para aqueles que não têm acesso à terapia tradicional (Continental Hospitals, Faculdade de Medicina Santa Marcelina).\n> 2.  **IA no Tratamento da Saúde Mental:** A inteligência artificial está sendo usada para prevenir suicídios, tratar dependências químicas e oferecer suporte psicológico personalizado. Algoritmos avançados monitoram sintomas de ansiedade e depressão em tempo real (Plusoft).\n> 3.  **Realidade Virtual (VR) na Saúde Mental:** A realidade virtual está se tornando uma ferramenta poderosa no tratamento de questões de saúde mental, permitindo simular situações desafiadoras e ajudar os pacientes a enfrentar seus medos e traumas de forma controlada (Laboratório Goes).\n> 4.  **Wearables e Monitoramento Emocional:** Dispositivos vestíveis, como smartwatches, estão sendo integrados com aplicativos de saúde mental para monitorar sinais vitais e oferecer feedback em tempo real sobre o estado emocional dos usuários (4Medic, Laboratório Goes).\n> 5.  **Programas de Apoio Psicológico nas Empresas:** Empresas estão implementando programas de atendimento psicológico remoto e presencial, jornadas de trabalho flexíveis e treinamentos para líderes sobre empatia e gestão de conflitos (SER HCM).\n"
          },
          "metadata": {}
        },
        {
          "output_type": "stream",
          "name": "stdout",
          "text": [
            "--------------------------------------------------------------\n",
            "\n",
            "💾 Informações buscadas armazenadas para o próximo agente.\n"
          ]
        }
      ]
    },
    {
      "cell_type": "markdown",
      "source": [
        "## Agente 2: Planejador de Conteúdo para Conexão Saúde\n",
        "\n",
        "Com as informações relevantes encontradas pelo Agente Buscador, o Agente Planejador entra em ação. Sua responsabilidade é analisar essas informações e estruturar um plano detalhado para a criação de um post que ressoe com o público de saúde, tanto pacientes quanto profissionais. Ele utiliza a ferramenta de busca para aprofundar nos temas e identificar os pontos mais relevantes e o impacto prático das tendências e lançamentos."
      ],
      "metadata": {
        "id": "jhn6tigdKXNw"
      }
    },
    {
      "source": [
        "# Definição do Agente Planejador de Conteúdo para Conexão Saúde\n",
        "def agente_planejador_saude(topico_saude: str, informacoes_buscadas: str) -> str:\n",
        "    \"\"\"\n",
        "    Agente que planeja o conteúdo de um post de saúde, analisando informações buscadas\n",
        "    e identificando pontos relevantes para pacientes e profissionais.\n",
        "\n",
        "    Args:\n",
        "        topico_saude: O tópico de saúde principal do conteúdo.\n",
        "        informacoes_buscadas: As informações encontradas pelo Agente Buscador.\n",
        "\n",
        "    Returns:\n",
        "        Uma string contendo o plano detalhado para o post.\n",
        "    \"\"\"\n",
        "    planejador = Agent(\n",
        "        name=\"agente_planejador_saude\",\n",
        "        model=MODEL_ID, # Usando o modelo definido no setup inicial\n",
        "        instruction=f\"\"\"\n",
        "        Você é um planejador de conteúdo especializado em comunicação na área da saúde, focado em posts para conectar\n",
        "        profissionais e pacientes no Instagram. Com base nas informações buscadas sobre o tópico de saúde: \"{topico_saude}\",\n",
        "        sua tarefa é analisar essas informações, usar a ferramenta google_search para aprofundar nos detalhes se necessário,\n",
        "        e criar um plano detalhado para um post engajador, considerando os seguintes pontos:\n",
        "\n",
        "        1.  **Tema Central:** Escolha o lançamento ou tendência mais relevante das informações buscadas para ser o tema principal do post.\n",
        "        2.  **Importância para Pacientes:** Identifique e liste os pontos chave dessa informação que são mais relevantes e impactantes para pacientes. Explique o \"porquê isso importa\" na linguagem de um paciente.\n",
        "        3.  **Importância para Profissionais:** Identifique e liste os pontos chave dessa informação que são mais relevantes e impactantes para profissionais de saúde. Explique o \"porquê isso importa\" na linguagem de um profissional.\n",
        "        4.  **Tópicos a Abordar no Post:** Com base nos pontos relevantes para ambos os públicos, liste os tópicos específicos que o redator deve incluir no post. Seja claro e objetivo.\n",
        "        5.  **Sugestões de Formato/Abordagem (Instagram):** Dê sugestões criativas sobre como apresentar essa informação no Instagram para maximizar o engajamento (ex: focar em um dado impactante, usar uma analogia simples, sugerir uma pergunta para o público, etc.).\n",
        "\n",
        "        O plano deve ser conciso, organizado em seções claras (Tema Central, Importância para Pacientes, Importância para Profissionais, Tópicos a Abordar, Sugestões de Formato) e servir como um guia completo para o Agente Redator.\n",
        "\n",
        "        Informações Buscadas:\n",
        "        {informacoes_buscadas}\n",
        "        \"\"\",\n",
        "        description=\"Agente que planeja posts sobre saúde, focado em clientes e profissionais\",\n",
        "        tools=[google_search]\n",
        "    )\n",
        "    entrada_do_agente_planejador = f\"Tópico de saúde: {topico_saude}\\nInformações Buscadas: {informacoes_buscadas}\"\n",
        "    plano_do_post_saude = call_agent(planejador, entrada_do_agente_planejador)\n",
        "    return plano_do_post_saude"
      ],
      "cell_type": "code",
      "metadata": {
        "id": "TfrQuwLhKZ3F"
      },
      "execution_count": 38,
      "outputs": []
    },
    {
      "cell_type": "markdown",
      "source": [
        "### Exemplo de Execução do Agente Planejador de Conteúdo para Conexão Saúde\n",
        "\n",
        "Agora, vamos ver o Agente Planejador em ação, utilizando as informações que o Agente Buscador encontrou. Ele analisará as informações e gerará um plano detalhado para o post de saúde, focando em como conectar pacientes e profissionais."
      ],
      "metadata": {
        "id": "HcWEi1kEKi_J"
      }
    },
    {
      "source": [
        "# Exemplo de execução do Agente Planejador de Conteúdo para Conexão Saúde\n",
        "# Certifique-se de que 'informacoes_para_planejar' contém a saída do Agente Buscador\n",
        "if 'informacoes_para_planejar' in locals() and informacoes_para_planejar:\n",
        "    print(f\"\\n🧠 Planejando post sobre {topico_para_planejar} com base nas informações buscadas...\")\n",
        "\n",
        "    # Chama o agente planejador de saúde\n",
        "    plano_do_post_saude = agente_planejador_saude(topico_para_planejar, informacoes_para_planejar)\n",
        "\n",
        "    print(\"\\n--- 📝 Resultado do Agente 2 (Planejador de Conteúdo para Conexão Saúde) ---\\n\")\n",
        "    display(to_markdown(plano_do_post_saude))\n",
        "    print(\"--------------------------------------------------------------\")\n",
        "\n",
        "# Para os próximos exemplos, armazenamos o plano do post\n",
        "if 'plano_do_post_saude' in locals() and plano_do_post_saude:\n",
        "    # Variável para ser usada pelos próximos exemplos\n",
        "    plano_para_redator = plano_do_post_saude\n",
        "    topico_para_redator = topico_para_planejar # Mantém o tópico para o redator\n",
        "    print(\"\\n💾 Plano do post armazenado para o próximo agente.\")\n",
        "else:\n",
        "     print(\"\\n❌ Nenhum plano gerado. Os próximos exemplos podem não funcionar corretamente sem a execução bem-sucedida do Agente Planejador.\")"
      ],
      "cell_type": "code",
      "metadata": {
        "id": "KAtlWlIzKlp4",
        "colab": {
          "base_uri": "https://localhost:8080/",
          "height": 1000
        },
        "outputId": "bf06e18d-3fe1-4afa-f58e-c0c3b69354f1"
      },
      "execution_count": 39,
      "outputs": [
        {
          "output_type": "stream",
          "name": "stdout",
          "text": [
            "\n",
            "🧠 Planejando post sobre Saúde Mental com base nas informações buscadas...\n",
            "\n",
            "--- 📝 Resultado do Agente 2 (Planejador de Conteúdo para Conexão Saúde) ---\n",
            "\n"
          ]
        },
        {
          "output_type": "display_data",
          "data": {
            "text/plain": [
              "<IPython.core.display.Markdown object>"
            ],
            "text/markdown": "> Perfeito! Com as informações sobre as tendências em Saúde Mental, posso criar um plano de conteúdo detalhado para o Instagram.\n> \n> \n> ## Plano de Conteúdo para Instagram - Saúde Mental e Tecnologia\n> \n> **Tema Central:** A Revolução Tecnológica na Saúde Mental: Telemedicina, IA, VR e Wearables\n> \n> **Importância para Pacientes:**\n> \n> *   **Acessibilidade Ampliada:** A telemedicina e outras tecnologias digitais estão tornando o cuidado com a saúde mental mais acessível, especialmente para quem mora em áreas remotas, tem dificuldades de locomoção ou horários inflexíveis. *Por que isso importa?* Porque agora você pode ter acesso a um psicólogo ou psiquiatra sem sair de casa, no horário que for mais conveniente para você.\n> *   **Suporte Personalizado:** A IA e os wearables podem oferecer suporte individualizado, monitorando seu estado emocional e fornecendo feedback em tempo real. *Por que isso importa?* Porque você terá um \"assistente\" que te ajuda a entender suas emoções e a lidar com elas de forma mais eficaz, no dia a dia.\n> *   **Tratamentos Inovadores:** A realidade virtual está abrindo novas possibilidades de tratamento para fobias, ansiedade e traumas. *Por que isso importa?* Porque você pode enfrentar seus medos em um ambiente seguro e controlado, com o apoio de um profissional, sem precisar se expor a situações reais que podem ser muito difíceis.\n> \n> **Importância para Profissionais:**\n> \n> *   **Ampliação do Alcance:** A telemedicina permite atender pacientes em áreas geográficas mais amplas e oferecer horários mais flexíveis, otimizando o tempo e expandindo a prática. *Por que isso importa?* Porque você pode ajudar mais pessoas e ter mais flexibilidade na sua rotina profissional.\n> *   **Ferramentas de Diagnóstico Avançadas:** A IA pode auxiliar no diagnóstico precoce e no monitoramento de pacientes, permitindo intervenções mais rápidas e eficazes. *Por que isso importa?* Porque você terá acesso a dados e análises que podem te ajudar a tomar decisões mais informadas e a oferecer um tratamento mais preciso.\n> *   **Terapias Inovadoras:** A realidade virtual oferece novas abordagens terapêuticas para tratar diversos transtornos mentais, abrindo novas áreas de atuação e pesquisa. *Por que isso importa?* Porque você pode oferecer tratamentos mais eficazes e personalizados, utilizando tecnologias de ponta.\n> *   **Dados e Insights:** Wearables e aplicativos geram dados valiosos sobre o bem-estar emocional dos pacientes, permitindo um acompanhamento mais preciso e personalizado. *Por que isso importa?* Porque você pode monitorar o progresso dos seus pacientes de forma mais objetiva e ajustar o tratamento conforme necessário.\n> \n> **Tópicos a Abordar no Post:**\n> \n> 1.  **O que é a \"Revolução Tecnológica\" na Saúde Mental:** Explicar brevemente o que é telemedicina, IA, VR e wearables e como estão sendo usados na área da saúde mental.\n> 2.  **Acessibilidade e Conveniência:** Destacar como a telemedicina facilita o acesso ao tratamento, especialmente para pessoas em áreas remotas ou com horários difíceis. (Mencionar dados estatísticos sobre o aumento do uso da telemedicina).\n> 3.  **IA e Suporte Personalizado:** Explicar como a inteligência artificial pode monitorar sintomas de ansiedade e depressão e oferecer suporte personalizado.\n> 4.  **Realidade Virtual para Tratamento:** Detalhar como a realidade virtual está sendo usada para tratar fobias, ansiedade e traumas, permitindo que os pacientes enfrentem seus medos em um ambiente seguro. (Mencionar exemplos de transtornos que podem ser tratados com VR, como ansiedade social, TEPT e TOC).\n> 5.  **Wearables e Monitoramento Emocional:** Mostrar como dispositivos vestíveis podem monitorar sinais vitais e oferecer feedback em tempo real sobre o estado emocional dos usuários.\n> 6.  **Programas de Apoio Psicológico nas Empresas:** Informar sobre a importância de programas de apoio psicológico nas empresas e como eles podem melhorar o bem-estar dos funcionários. (Mencionar benefícios como a redução do estresse, aumento da produtividade e melhora do clima organizacional).\n> 7.  **O Futuro da Saúde Mental:** Fazer uma reflexão sobre como a tecnologia continuará transformando a área da saúde mental e como isso pode impactar positivamente a vida de pacientes e profissionais.\n> \n> **Sugestões de Formato/Abordagem (Instagram):**\n> \n> *   **Carrossel:** Crie um carrossel com cada tópico principal em um slide separado, usando imagens e gráficos atraentes.\n> *   **Vídeo Curto:** Faça um vídeo curto explicando como a tecnologia está revolucionando a saúde mental, com depoimentos de pacientes e profissionais.\n> *   **Infográfico:** Crie um infográfico com dados estatísticos sobre o uso da telemedicina e outras tecnologias na área da saúde mental.\n> *   **Perguntas Interativas:** Faça perguntas interativas nos stories, como \"Você já experimentou telemedicina?\" ou \"Qual tecnologia você acha que terá o maior impacto na saúde mental?\".\n> *   **Analogia Simples:** Use uma analogia simples para explicar como a realidade virtual funciona, como \"Imagine que você pode enfrentar seus medos em um videogame, com a ajuda de um terapeuta\".\n> *   **Dado Impactante:** Comece o post com um dado impactante sobre a prevalência de transtornos mentais e como a tecnologia pode ajudar a combatê-los. (Ex: \"40% dos pacientes corporativos diagnosticados com algum transtorno emocional\").\n> *   **Colaboração:** Faça uma colaboração com um profissional de saúde mental para criar um conteúdo informativo e confiável.\n> *   **Hashtags:** Utilize hashtags relevantes como #saudemental #telemedicina #inteligenciaartificial #realidadevirtual #bemestar #tecnologia #psicologia #psiquiatria #inovacaoemsaude.\n> *    **Linguagem:** Utilize uma linguagem acessível e empática, evitando jargões técnicos. Foque em como essas tecnologias podem melhorar a vida das pessoas.\n> \n> Este plano de conteúdo deve fornecer uma base sólida para criar um post engajador e informativo sobre a revolução tecnológica na saúde mental. O Agente Redator pode usar essas informações para criar um conteúdo atraente e relevante para o público do Instagram.\n> \n"
          },
          "metadata": {}
        },
        {
          "output_type": "stream",
          "name": "stdout",
          "text": [
            "--------------------------------------------------------------\n",
            "\n",
            "💾 Plano do post armazenado para o próximo agente.\n"
          ]
        }
      ]
    },
    {
      "cell_type": "markdown",
      "source": [
        "## Agente 3: Redator de Posts Engajadores de Saúde\n",
        "\n",
        "Com o plano detalhado em mãos, o Agente Redator de Posts Engajadores de Saúde transforma o plano em um rascunho de post para o Instagram. Ele utiliza o plano gerado pelo Agente Planejador e aplica as diretrizes de linguagem e tom adequados para engajar o público de saúde, considerando as nuances de comunicação com pacientes e profissionais."
      ],
      "metadata": {
        "id": "WLJizK7aKxF3"
      }
    },
    {
      "source": [
        "# Definição do Agente Redator de Posts Engajadores de Saúde\n",
        "def agente_redator_saude(topico_saude: str, plano_de_post_saude: str) -> str:\n",
        "    \"\"\"\n",
        "    Agente que redige um post de Instagram sobre saúde, usando linguagem acessível e engajadora,\n",
        "    considerando o público de pacientes e profissionais com base em um plano.\n",
        "\n",
        "    Args:\n",
        "        topico_saude: O tópico de saúde principal do conteúdo.\n",
        "        plano_de_post_saude: O plano detalhado gerado pelo Agente Planejador.\n",
        "\n",
        "    Returns:\n",
        "        Uma string contendo o rascunho do post para Instagram.\n",
        "    \"\"\"\n",
        "    redator = Agent(\n",
        "        name=\"agente_redator_saude\",\n",
        "        model=MODEL_ID, # Usando o modelo definido no setup inicial\n",
        "        instruction=f\"\"\"\n",
        "            Você é um Redator Criativo especializado em posts para redes sociais na área da saúde, com foco no Instagram.\n",
        "            Você escreve para um público que inclui tanto pacientes quanto profissionais de saúde.\n",
        "            Utilize o plano de post fornecido sobre o tópico de saúde ({topico_saude}) e os pontos mais relevantes\n",
        "            para escrever um rascunho de post para Instagram.\n",
        "\n",
        "            Diretrizes para a escrita do post:\n",
        "            - Baseie-se **inteiramente** no plano fornecido. Não adicione informações novas que não estejam no plano.\n",
        "            - Adote uma linguagem clara, acessível e evite jargões médicos complexos ao se dirigir a pacientes.\n",
        "            - Destaque o **impacto prático** das informações, tanto para a vida dos pacientes quanto para a rotina ou prática clínica dos profissionais.\n",
        "            - O tom deve ser informativo, engajador, empático e inspirar confiança. Evite sensacionalismo ou promessas exageradas.\n",
        "            - Utilize emojis relevantes para a área da saúde, de forma equilibrada.\n",
        "            - Crie uma introdução cativante que chame a atenção do público no feed.\n",
        "            - Inclua uma chamada para ação (Call to Action) no final, incentivando a interação (ex: \"Deixe sua pergunta nos comentários!\", \"Compartilhe com quem precisa saber!\").\n",
        "            - Inclua 3 a 5 hashtags relevantes no final. Mescle hashtags populares de saúde (ex: #saude #bemestar) com hashtags mais específicas do tema (ex: #vacinadengue #tecnologiamedica).\n",
        "\n",
        "            Plano de Post:\n",
        "            {plano_de_post_saude}\n",
        "            \"\"\",\n",
        "        description=\"Agente redator de posts de saúde engajadores para Instagram\",\n",
        "    )\n",
        "    entrada_do_agente_redator = f\"Tópico de saúde: {topico_saude}\\nPlano de post de saúde: {plano_de_post_saude}\"\n",
        "    rascunho_saude = call_agent(redator, entrada_do_agente_redator)\n",
        "    return rascunho_saude"
      ],
      "cell_type": "code",
      "metadata": {
        "id": "lEzO77YTKyiB"
      },
      "execution_count": 40,
      "outputs": []
    },
    {
      "cell_type": "markdown",
      "source": [
        "### Exemplo de Execução do Agente Redator de Posts Engajadores de Saúde\n",
        "\n",
        "Agora, vamos ver o Agente Redator em ação, utilizando o plano gerado pelo Agente Planejador. Ele transformará esse plano em um rascunho de post para o Instagram, aplicando as diretrizes de linguagem e tom para o público de saúde."
      ],
      "metadata": {
        "id": "SdBXaSpZK2P4"
      }
    },
    {
      "source": [
        "# Exemplo de execução do Agente Redator de Posts Engajadores de Saúde\n",
        "# Certifique-se de que 'plano_para_redator' e 'topico_para_redator' estão definidos\n",
        "if 'plano_para_redator' in locals() and plano_para_redator and 'topico_para_redator' in locals():\n",
        "    print(f\"\\n✍️ Redigindo post sobre {topico_para_redator} com base no plano...\")\n",
        "\n",
        "    # Chama o agente redator de saúde\n",
        "    rascunho_de_post_saude = agente_redator_saude(topico_para_redator, plano_para_redator)\n",
        "\n",
        "    print(\"\\n--- 📝 Resultado do Agente 3 (Redator de Posts Engajadores de Saúde) ---\\n\")\n",
        "    display(to_markdown(rascunho_de_post_saude))\n",
        "    print(\"--------------------------------------------------------------\")\n",
        "\n",
        "# Para os próximos exemplos, armazenamos o rascunho do post\n",
        "if 'rascunho_de_post_saude' in locals() and rascunho_de_post_saude:\n",
        "    # Variável para ser usada pelo próximo exemplo\n",
        "    rascunho_para_revisor = rascunho_de_post_saude\n",
        "    topico_para_revisor = topico_para_redator # Mantém o tópico para o revisor\n",
        "    print(\"\\n💾 Rascunho do post armazenado para o próximo agente.\")\n",
        "else:\n",
        "     print(\"\\n❌ Nenhum rascunho gerado. Os próximos exemplos podem não funcionar corretamente sem a execução bem-sucedida do Agente Redator.\")"
      ],
      "cell_type": "code",
      "metadata": {
        "id": "KXIsZWoMK2za",
        "colab": {
          "base_uri": "https://localhost:8080/",
          "height": 469
        },
        "outputId": "3f3cc3e5-1b37-4cca-be83-a3ab5fbc50da"
      },
      "execution_count": 41,
      "outputs": [
        {
          "output_type": "stream",
          "name": "stdout",
          "text": [
            "\n",
            "✍️ Redigindo post sobre Saúde Mental com base no plano...\n",
            "\n",
            "--- 📝 Resultado do Agente 3 (Redator de Posts Engajadores de Saúde) ---\n",
            "\n"
          ]
        },
        {
          "output_type": "display_data",
          "data": {
            "text/plain": [
              "<IPython.core.display.Markdown object>"
            ],
            "text/markdown": "> 🌟 **Atenção: A saúde mental está evoluindo!** 🌟\n> \n> Você sabia que a tecnologia está transformando a forma como cuidamos da nossa mente? 🤯 A telemedicina, a inteligência artificial (IA), a realidade virtual (VR) e os wearables (dispositivos vestíveis) estão revolucionando a saúde mental, tanto para pacientes quanto para profissionais!\n> \n> 🤔 **O que é essa \"revolução tecnológica\"?**\n> São novas ferramentas que estão sendo usadas para tornar o cuidado com a saúde mental mais acessível, personalizado e eficaz.\n> \n> **Para VOCÊ, paciente:**\n> ✅ **Acessibilidade:** A telemedicina te conecta com psicólogos e psiquiatras de onde estiver, economizando tempo e deslocamento.\n> 🤖 **Suporte Personalizado:** A IA e os wearables monitoram suas emoções e te dão um \"empurrãozinho\" quando você mais precisa.\n> ✨ **Tratamentos Inovadores:** Já pensou em enfrentar seus medos em um ambiente virtual seguro? A VR está tornando isso possível!\n> \n> **Para VOCÊ, profissional de saúde:**\n> 🚀 **Amplie seu alcance:** Atenda mais pacientes com a telemedicina e otimize sua agenda.\n> 🧠 **Diagnósticos precisos:** A IA te ajuda a identificar problemas precocemente e monitorar seus pacientes de perto.\n> 💡 **Terapias inovadoras:** A VR abre um mundo de possibilidades para tratar ansiedade, fobias e traumas.\n> \n> 🏢 **Empresas:** Sabiam que o apoio psicológico no trabalho reduz o estresse e aumenta a produtividade?\n> \n> O futuro da saúde mental já chegou! 🚀 Quer saber mais sobre como a tecnologia pode te ajudar? Deixe suas dúvidas nos comentários! 👇\n> \n> #saudemental #telemedicina #inteligenciaartificial #realidadevirtual #bemestar #tecnologia #psicologia #inovacaoemsaude\n> \n"
          },
          "metadata": {}
        },
        {
          "output_type": "stream",
          "name": "stdout",
          "text": [
            "--------------------------------------------------------------\n",
            "\n",
            "💾 Rascunho do post armazenado para o próximo agente.\n"
          ]
        }
      ]
    },
    {
      "cell_type": "markdown",
      "source": [
        "## Agente 4: Revisor de Qualidade em Saúde\n",
        "\n",
        "O último agente em nosso pipeline é o Revisor de Qualidade em Saúde. Sua função é crucial para garantir a precisão, clareza e adequação do conteúdo gerado, especialmente em um campo tão sensível quanto a saúde. Ele avalia o rascunho do post com base em critérios rigorosos e pode aprovar o post ou sugerir melhorias."
      ],
      "metadata": {
        "id": "jr8kHO8VK_x-"
      }
    },
    {
      "source": [
        "# Definição do Agente Revisor de Qualidade em Saúde\n",
        "def agente_revisor_saude(topico_saude: str, rascunho_gerado_saude: str) -> str:\n",
        "    \"\"\"\n",
        "    Agente que revisa posts de saúde, focando em precisão, clareza, tom e adequação ao público.\n",
        "\n",
        "    Args:\n",
        "        topico_saude: O tópico de saúde principal do conteúdo.\n",
        "        rascunho_gerado_saude: O rascunho do post gerado pelo Agente Redator.\n",
        "\n",
        "    Returns:\n",
        "        Uma string contendo a revisão do post (aprovação ou sugestões de melhoria).\n",
        "    \"\"\"\n",
        "    revisor = Agent(\n",
        "        name=\"agente_revisor_saude\",\n",
        "        model=MODEL_ID, # Usando o modelo definido no setup inicial\n",
        "        instruction=f\"\"\"\n",
        "            Você é um Editor e Revisor de Conteúdo meticuloso, especializado em posts para redes sociais na área da saúde, com foco no Instagram.\n",
        "            Seu objetivo é garantir que o rascunho de post abaixo sobre o tópico de saúde ({topico_saude}) seja preciso, claro, conciso, com o tom adequado e relevante para o público de pacientes e profissionais de saúde.\n",
        "\n",
        "            Critérios de revisão:\n",
        "            - **Precisão da informação:** Verifique se as informações médicas apresentadas são precisas e não enganosas.\n",
        "            - **Clareza e Acessibilidade:** O texto é fácil de entender para pacientes leigos? Evita jargões desnecessários?\n",
        "            - **Relevância para o público:** O post aborda o impacto prático para pacientes e profissionais?\n",
        "            - **Tom e Linguagem:** O tom é informativo, engajador e empático? A linguagem é apropriada para o Instagram e o tema de saúde?\n",
        "            - **Concisão:** O post é direto ao ponto, sem informações redundantes?\n",
        "            - **Hashtags:** As hashtags são relevantes e bem escolhidas?\n",
        "            - **Conformidade (Opcional - mencione a complexidade):** Embora não seja o foco principal, o post evita linguagem que possa ser interpretada como aconselhamento médico direto?\n",
        "\n",
        "            Se o rascunho estiver ótimo e atender a todos os critérios, responda apenas '✅ O rascunho está ótimo e pronto para publicar na área da saúde! 🩺'.\n",
        "            Caso haja problemas, aponte-os de forma clara e sugira melhorias específicas, explicando o porquê da sugestão em relação aos critérios de revisão para a área da saúde. Use emojis para destacar os pontos de melhoria (ex: ⚠️, ✏️).\n",
        "\n",
        "            Rascunho do Post para Revisão:\n",
        "            {rascunho_gerado_saude}\n",
        "            \"\"\",\n",
        "        description=\"Agente revisor de post de saúde para redes sociais.\",\n",
        "    )\n",
        "    entrada_do_agente_revisor = f\"Tópico de saúde: {topico_saude}\\nRascunho de post de saúde: {rascunho_gerado_saude}\"\n",
        "    texto_revisado_saude = call_agent(revisor, entrada_do_agente_revisor)\n",
        "    return texto_revisado_saude"
      ],
      "cell_type": "code",
      "metadata": {
        "id": "v5Lhnv4pLBCv"
      },
      "execution_count": 42,
      "outputs": []
    },
    {
      "cell_type": "markdown",
      "source": [
        "### Exemplo de Execução do Agente Revisor de Qualidade em Saúde\n",
        "\n",
        "O último agente em nosso pipeline, o Revisor de Qualidade, avalia o rascunho final. Ele verifica a precisão, clareza e adequação para o público de saúde. O resultado será uma aprovação ou sugestões de melhoria para o rascunho gerado pelo Agente Redator."
      ],
      "metadata": {
        "id": "6JJoV7RzLQZx"
      }
    },
    {
      "source": [
        "# Exemplo de execução do Agente Revisor de Qualidade em Saúde\n",
        "# Certifique-se de que 'rascunho_para_revisor' e 'topico_para_revisor' estão definidos\n",
        "if 'rascunho_para_revisor' in locals() and rascunho_para_revisor and 'topico_para_revisor' in locals():\n",
        "    print(f\"\\n✨ Revisando o post sobre {topico_para_revisor} para qualidade e precisão...\")\n",
        "\n",
        "    # Chama o agente revisor de saúde\n",
        "    post_final_saude = agente_revisor_saude(topico_para_revisor, rascunho_para_revisor)\n",
        "\n",
        "    print(\"\\n--- ✅ Resultado do Agente 4 (Revisor de Qualidade em Saúde) ---\\n\")\n",
        "    display(to_markdown(post_final_saude))\n",
        "    print(\"--------------------------------------------------------------\")\n",
        "\n",
        "else:\n",
        "     print(\"\\n❌ Nenhum rascunho disponível para revisão. Os próximos exemplos podem não funcionar corretamente sem a execução bem-sucedida do Agente Redator.\")"
      ],
      "cell_type": "code",
      "metadata": {
        "id": "SF0LG3DsLRx_",
        "colab": {
          "base_uri": "https://localhost:8080/",
          "height": 167
        },
        "outputId": "51cc5dd2-75b1-44c1-e150-fd8698d84e31"
      },
      "execution_count": 43,
      "outputs": [
        {
          "output_type": "stream",
          "name": "stdout",
          "text": [
            "\n",
            "✨ Revisando o post sobre Saúde Mental para qualidade e precisão...\n",
            "\n",
            "--- ✅ Resultado do Agente 4 (Revisor de Qualidade em Saúde) ---\n",
            "\n"
          ]
        },
        {
          "output_type": "display_data",
          "data": {
            "text/plain": [
              "<IPython.core.display.Markdown object>"
            ],
            "text/markdown": "> ✅ O rascunho está ótimo e pronto para publicar na área da saúde! 🩺\n"
          },
          "metadata": {}
        },
        {
          "output_type": "stream",
          "name": "stdout",
          "text": [
            "--------------------------------------------------------------\n"
          ]
        }
      ]
    },
    {
      "cell_type": "markdown",
      "source": [
        "## Próximos Passos e Potenciais Melhorias\n",
        "\n",
        "Este projeto demonstra o potencial da IA na criação de conteúdo para a área da saúde, focando na conexão entre pacientes e profissionais. Há diversas possibilidades de expansão e melhoria para tornar o sistema ainda mais completo e útil:\n",
        "\n",
        "*   **Personalização Avançada:** Implementar funcionalidades para personalizar o conteúdo de forma mais granular com base no perfil específico de pacientes (idade, condição de saúde, interesses) ou profissionais de saúde (especialidade, área de atuação).\n",
        "*   **Integração com Outras Fontes de Dados:** Conectar o sistema a bases de dados de pesquisa científica (como PubMed, Scielo), diretrizes clínicas atualizadas, notícias de agências de saúde (como Anvisa, FDA) e outras fontes relevantes para enriquecer a informação buscada.\n",
        "*   **Novos Agentes Especializados:** Desenvolver agentes adicionais para tarefas específicas, como um agente para gerar legendas para vídeos educativos, um agente para criar infográficos simples a partir de dados de saúde, ou um agente especializado em conteúdo para campanhas de saúde pública.\n",
        "*   **Loop de Feedback:** Incorporar um mecanismo para coletar feedback sobre o conteúdo gerado (por exemplo, de profissionais de saúde revisores ou até mesmo métricas de engajamento em redes sociais) e usar esse feedback para aprimorar as instruções e o desempenho dos agentes ao longo do tempo.\n",
        "*   **Suporte a Outros Formatos:** Expandir a capacidade de gerar conteúdo para outros formatos além de posts de Instagram, como artigos de blog, roteiros para podcasts curtos, ou conteúdo para newsletters informativas.\n",
        "*   **Interface de Usuário:** Desenvolver uma interface de usuário mais amigável para facilitar a interação com o sistema, permitindo que os usuários insiram tópicos, visualizem os resultados de cada agente e editem o conteúdo final antes da publicação."
      ],
      "metadata": {
        "id": "CZ6JLs8oLYiR"
      }
    }
  ]
}